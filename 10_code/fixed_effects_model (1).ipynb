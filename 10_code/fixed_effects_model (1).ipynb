{
 "cells": [
  {
   "cell_type": "code",
   "execution_count": 1,
   "metadata": {},
   "outputs": [],
   "source": [
    "# !pip install statsmodels\n",
    "# !pip install plotnine"
   ]
  },
  {
   "cell_type": "code",
   "execution_count": 1,
   "metadata": {},
   "outputs": [],
   "source": [
    "import pandas as pd\n",
    "import numpy as np\n",
    "import matplotlib.pyplot as plt\n",
    "import seaborn as sns\n",
    "import statsmodels.api as sm\n",
    "import statsmodels.formula.api as smf\n",
    "import warnings\n",
    "from plotnine import *\n",
    "warnings.filterwarnings('ignore')"
   ]
  },
  {
   "cell_type": "code",
   "execution_count": 2,
   "metadata": {},
   "outputs": [],
   "source": [
    "df = pd.read_csv('/workspaces/IDS701_Final_Project_Du/00_Source_Date/IDS701_final_data.csv')\n",
    "# takes about 45s"
   ]
  },
  {
   "cell_type": "code",
   "execution_count": 3,
   "metadata": {},
   "outputs": [],
   "source": [
    "# drop the first two columns\n",
    "df = df.drop(df.columns[[0, 1]], axis=1)"
   ]
  },
  {
   "cell_type": "code",
   "execution_count": 4,
   "metadata": {},
   "outputs": [
    {
     "data": {
      "text/plain": [
       "Index(['ENTITY_CD', 'YEAR', 'Subject_x', 'ASSESSMENT_NAME', 'ENTITY_NAME',\n",
       "       'SUBGROUP_NAME', 'NOT_TESTED', 'NUM_TESTED', 'NUM_PROF', 'PER_PROF',\n",
       "       'TOTAL_SCALE_SCORES', 'MEAN_SCORE', 'TOTAL_COUNT', 'PCT_NOT_TESTED',\n",
       "       'PCT_TESTED', 'ES_ELA', 'ES_MATH', 'ES_SCI', 'ES', 'MS_ELA', 'MS_MATH',\n",
       "       'MS_SCI', 'MS', 'EM', 'ST_NOTSURE', 'Female_MEAN_SCORE',\n",
       "       'Female_NOT_TESTED', 'Female_NUM_PROF', 'Female_NUM_TESTED',\n",
       "       'Female_PER_PROF', 'Female_TOTAL_SCALE_SCORES', 'Male_MEAN_SCORE',\n",
       "       'Male_NOT_TESTED', 'Male_NUM_PROF', 'Male_NUM_TESTED', 'Male_PER_PROF',\n",
       "       'Male_TOTAL_SCALE_SCORES', 'Female_PCT_NOT_TESTED', 'Female_PCT_TESTED',\n",
       "       'Female_TOTAL_COUNT', 'Male_PCT_NOT_TESTED', 'Male_PCT_TESTED',\n",
       "       'Male_TOTAL_COUNT', 'Subject_y', 'NUM_TESTED_white', 'NUM_PROF_white',\n",
       "       'TOTAL_SCALE_SCORES_white', 'MEAN_SCORE_white', 'NUM_TESTED_non_white',\n",
       "       'NUM_PROF_non_white', 'TOTAL_SCALE_SCORES_non_white',\n",
       "       'MEAN_SCORE_non_white', 'Subject',\n",
       "       'NUM_TESTED_english_language_learners',\n",
       "       'NUM_PROF_english_language_learners',\n",
       "       'TOTAL_SCALE_SCORES_english_language_learners',\n",
       "       'MEAN_SCORE_english_language_learners',\n",
       "       'NUM_TESTED_non-english_language_learners',\n",
       "       'NUM_PROF_non-english_language_learners',\n",
       "       'TOTAL_SCALE_SCORES_non-english_language_learners',\n",
       "       'MEAN_SCORE_non-english_language_learners'],\n",
       "      dtype='object')"
      ]
     },
     "execution_count": 4,
     "metadata": {},
     "output_type": "execute_result"
    }
   ],
   "source": [
    "df.columns"
   ]
  },
  {
   "cell_type": "code",
   "execution_count": 5,
   "metadata": {},
   "outputs": [],
   "source": [
    "\n",
    "model = smf.ols(\"MEAN_SCORE ~ YEAR + ENTITY_CD\", df).fit().summary()"
   ]
  },
  {
   "cell_type": "code",
   "execution_count": 6,
   "metadata": {},
   "outputs": [
    {
     "data": {
      "text/html": [
       "<table class=\"simpletable\">\n",
       "<caption>OLS Regression Results</caption>\n",
       "<tr>\n",
       "  <th>Dep. Variable:</th>       <td>MEAN_SCORE</td>    <th>  R-squared:         </th>  <td>   0.003</td>  \n",
       "</tr>\n",
       "<tr>\n",
       "  <th>Model:</th>                   <td>OLS</td>       <th>  Adj. R-squared:    </th>  <td>   0.003</td>  \n",
       "</tr>\n",
       "<tr>\n",
       "  <th>Method:</th>             <td>Least Squares</td>  <th>  F-statistic:       </th>  <td>1.330e+04</td> \n",
       "</tr>\n",
       "<tr>\n",
       "  <th>Date:</th>             <td>Sun, 23 Apr 2023</td> <th>  Prob (F-statistic):</th>   <td>  0.00</td>   \n",
       "</tr>\n",
       "<tr>\n",
       "  <th>Time:</th>                 <td>09:55:14</td>     <th>  Log-Likelihood:    </th> <td>-6.3420e+07</td>\n",
       "</tr>\n",
       "<tr>\n",
       "  <th>No. Observations:</th>      <td>9488161</td>     <th>  AIC:               </th>  <td>1.268e+08</td> \n",
       "</tr>\n",
       "<tr>\n",
       "  <th>Df Residuals:</th>          <td>9488158</td>     <th>  BIC:               </th>  <td>1.268e+08</td> \n",
       "</tr>\n",
       "<tr>\n",
       "  <th>Df Model:</th>              <td>     2</td>      <th>                     </th>      <td> </td>     \n",
       "</tr>\n",
       "<tr>\n",
       "  <th>Covariance Type:</th>      <td>nonrobust</td>    <th>                     </th>      <td> </td>     \n",
       "</tr>\n",
       "</table>\n",
       "<table class=\"simpletable\">\n",
       "<tr>\n",
       "      <td></td>         <th>coef</th>     <th>std err</th>      <th>t</th>      <th>P>|t|</th>  <th>[0.025</th>    <th>0.975]</th>  \n",
       "</tr>\n",
       "<tr>\n",
       "  <th>Intercept</th> <td>-1.199e+04</td> <td>   80.756</td> <td> -148.480</td> <td> 0.000</td> <td>-1.21e+04</td> <td>-1.18e+04</td>\n",
       "</tr>\n",
       "<tr>\n",
       "  <th>YEAR</th>      <td>    6.1880</td> <td>    0.040</td> <td>  154.784</td> <td> 0.000</td> <td>    6.110</td> <td>    6.266</td>\n",
       "</tr>\n",
       "<tr>\n",
       "  <th>ENTITY_CD</th> <td> 1.363e-06</td> <td> 2.34e-08</td> <td>   58.189</td> <td> 0.000</td> <td> 1.32e-06</td> <td> 1.41e-06</td>\n",
       "</tr>\n",
       "</table>\n",
       "<table class=\"simpletable\">\n",
       "<tr>\n",
       "  <th>Omnibus:</th>       <td>2787109.415</td> <th>  Durbin-Watson:     </th>  <td>   0.000</td>  \n",
       "</tr>\n",
       "<tr>\n",
       "  <th>Prob(Omnibus):</th>   <td> 0.000</td>    <th>  Jarque-Bera (JB):  </th> <td>5988655.423</td>\n",
       "</tr>\n",
       "<tr>\n",
       "  <th>Skew:</th>            <td>-1.824</td>    <th>  Prob(JB):          </th>  <td>    0.00</td>  \n",
       "</tr>\n",
       "<tr>\n",
       "  <th>Kurtosis:</th>        <td> 4.359</td>    <th>  Cond. No.          </th>  <td>4.47e+09</td>  \n",
       "</tr>\n",
       "</table><br/><br/>Notes:<br/>[1] Standard Errors assume that the covariance matrix of the errors is correctly specified.<br/>[2] The condition number is large, 4.47e+09. This might indicate that there are<br/>strong multicollinearity or other numerical problems."
      ],
      "text/plain": [
       "<class 'statsmodels.iolib.summary.Summary'>\n",
       "\"\"\"\n",
       "                            OLS Regression Results                            \n",
       "==============================================================================\n",
       "Dep. Variable:             MEAN_SCORE   R-squared:                       0.003\n",
       "Model:                            OLS   Adj. R-squared:                  0.003\n",
       "Method:                 Least Squares   F-statistic:                 1.330e+04\n",
       "Date:                Sun, 23 Apr 2023   Prob (F-statistic):               0.00\n",
       "Time:                        09:55:14   Log-Likelihood:            -6.3420e+07\n",
       "No. Observations:             9488161   AIC:                         1.268e+08\n",
       "Df Residuals:                 9488158   BIC:                         1.268e+08\n",
       "Df Model:                           2                                         \n",
       "Covariance Type:            nonrobust                                         \n",
       "==============================================================================\n",
       "                 coef    std err          t      P>|t|      [0.025      0.975]\n",
       "------------------------------------------------------------------------------\n",
       "Intercept  -1.199e+04     80.756   -148.480      0.000   -1.21e+04   -1.18e+04\n",
       "YEAR           6.1880      0.040    154.784      0.000       6.110       6.266\n",
       "ENTITY_CD   1.363e-06   2.34e-08     58.189      0.000    1.32e-06    1.41e-06\n",
       "==============================================================================\n",
       "Omnibus:                  2787109.415   Durbin-Watson:                   0.000\n",
       "Prob(Omnibus):                  0.000   Jarque-Bera (JB):          5988655.423\n",
       "Skew:                          -1.824   Prob(JB):                         0.00\n",
       "Kurtosis:                       4.359   Cond. No.                     4.47e+09\n",
       "==============================================================================\n",
       "\n",
       "Notes:\n",
       "[1] Standard Errors assume that the covariance matrix of the errors is correctly specified.\n",
       "[2] The condition number is large, 4.47e+09. This might indicate that there are\n",
       "strong multicollinearity or other numerical problems.\n",
       "\"\"\""
      ]
     },
     "execution_count": 6,
     "metadata": {},
     "output_type": "execute_result"
    }
   ],
   "source": [
    "model"
   ]
  },
  {
   "cell_type": "code",
   "execution_count": 7,
   "metadata": {},
   "outputs": [
    {
     "name": "stdout",
     "output_type": "stream",
     "text": [
      "Index(['MEAN_SCORE', 'Female_MEAN_SCORE', 'Male_MEAN_SCORE',\n",
      "       'MEAN_SCORE_white', 'MEAN_SCORE_non_white',\n",
      "       'MEAN_SCORE_english_language_learners',\n",
      "       'MEAN_SCORE_non-english_language_learners'],\n",
      "      dtype='object')\n"
     ]
    }
   ],
   "source": [
    "pred = df.columns[df.columns.str.contains('MEAN')]\n",
    "print(pred)"
   ]
  },
  {
   "cell_type": "code",
   "execution_count": 8,
   "metadata": {},
   "outputs": [],
   "source": [
    "# df.shape"
   ]
  },
  {
   "cell_type": "code",
   "execution_count": 9,
   "metadata": {},
   "outputs": [],
   "source": [
    "# df['MEAN_SCORE_white'].value_counts()"
   ]
  },
  {
   "cell_type": "code",
   "execution_count": 10,
   "metadata": {},
   "outputs": [],
   "source": [
    "# # encode like this: df.loc[df[white mean scores] > 0, white_or_not] = 1, else 0 (edited) \n",
    "# df['white_or_not'] = df['MEAN_SCORE_white'].apply(lambda x: 1 if x > 0 else 0)\n",
    "# df['female_or_not'] = df['Female_MEAN_SCORE'].apply(lambda x: 1 if x > 0 else 0)"
   ]
  },
  {
   "cell_type": "code",
   "execution_count": 11,
   "metadata": {},
   "outputs": [],
   "source": [
    "# for i in pred:\n",
    "#     print(i)\n",
    "#     model = smf.ols(f\"{i} ~ YEAR\", df).fit().summary()\n",
    "#     print(model)"
   ]
  },
  {
   "cell_type": "code",
   "execution_count": 12,
   "metadata": {},
   "outputs": [
    {
     "data": {
      "text/plain": [
       "array([2018, 2019, 2021, 2022])"
      ]
     },
     "execution_count": 12,
     "metadata": {},
     "output_type": "execute_result"
    }
   ],
   "source": [
    "df['YEAR'].unique()"
   ]
  },
  {
   "cell_type": "code",
   "execution_count": 13,
   "metadata": {},
   "outputs": [],
   "source": [
    "df['treatment'] = df['YEAR'].apply(lambda x: \"Treated\" if x > 2020 else \"Control\")\n",
    "df[\"years_from_policy_change\"] = df[\"YEAR\"] - 2019"
   ]
  },
  {
   "cell_type": "code",
   "execution_count": 14,
   "metadata": {},
   "outputs": [
    {
     "data": {
      "text/html": [
       "<div>\n",
       "<style scoped>\n",
       "    .dataframe tbody tr th:only-of-type {\n",
       "        vertical-align: middle;\n",
       "    }\n",
       "\n",
       "    .dataframe tbody tr th {\n",
       "        vertical-align: top;\n",
       "    }\n",
       "\n",
       "    .dataframe thead th {\n",
       "        text-align: right;\n",
       "    }\n",
       "</style>\n",
       "<table border=\"1\" class=\"dataframe\">\n",
       "  <thead>\n",
       "    <tr style=\"text-align: right;\">\n",
       "      <th></th>\n",
       "      <th>YEAR</th>\n",
       "      <th>treatment</th>\n",
       "      <th>years_from_policy_change</th>\n",
       "      <th>MEAN_SCORE</th>\n",
       "      <th>Female_MEAN_SCORE</th>\n",
       "      <th>Male_MEAN_SCORE</th>\n",
       "      <th>MEAN_SCORE_white</th>\n",
       "      <th>MEAN_SCORE_non_white</th>\n",
       "      <th>MEAN_SCORE_english_language_learners</th>\n",
       "      <th>MEAN_SCORE_non-english_language_learners</th>\n",
       "    </tr>\n",
       "  </thead>\n",
       "  <tbody>\n",
       "    <tr>\n",
       "      <th>0</th>\n",
       "      <td>2018</td>\n",
       "      <td>Control</td>\n",
       "      <td>-1</td>\n",
       "      <td>601.0</td>\n",
       "      <td>604.0</td>\n",
       "      <td>598.0</td>\n",
       "      <td>610.0</td>\n",
       "      <td>602.6</td>\n",
       "      <td>580.0</td>\n",
       "      <td>604.0</td>\n",
       "    </tr>\n",
       "    <tr>\n",
       "      <th>1</th>\n",
       "      <td>2018</td>\n",
       "      <td>Control</td>\n",
       "      <td>-1</td>\n",
       "      <td>601.0</td>\n",
       "      <td>604.0</td>\n",
       "      <td>598.0</td>\n",
       "      <td>610.0</td>\n",
       "      <td>602.6</td>\n",
       "      <td>580.0</td>\n",
       "      <td>604.0</td>\n",
       "    </tr>\n",
       "    <tr>\n",
       "      <th>2</th>\n",
       "      <td>2018</td>\n",
       "      <td>Control</td>\n",
       "      <td>-1</td>\n",
       "      <td>601.0</td>\n",
       "      <td>604.0</td>\n",
       "      <td>598.0</td>\n",
       "      <td>610.0</td>\n",
       "      <td>602.6</td>\n",
       "      <td>580.0</td>\n",
       "      <td>604.0</td>\n",
       "    </tr>\n",
       "    <tr>\n",
       "      <th>3</th>\n",
       "      <td>2018</td>\n",
       "      <td>Control</td>\n",
       "      <td>-1</td>\n",
       "      <td>601.0</td>\n",
       "      <td>604.0</td>\n",
       "      <td>598.0</td>\n",
       "      <td>610.0</td>\n",
       "      <td>602.6</td>\n",
       "      <td>580.0</td>\n",
       "      <td>604.0</td>\n",
       "    </tr>\n",
       "    <tr>\n",
       "      <th>4</th>\n",
       "      <td>2018</td>\n",
       "      <td>Control</td>\n",
       "      <td>-1</td>\n",
       "      <td>601.0</td>\n",
       "      <td>604.0</td>\n",
       "      <td>598.0</td>\n",
       "      <td>610.0</td>\n",
       "      <td>602.6</td>\n",
       "      <td>580.0</td>\n",
       "      <td>604.0</td>\n",
       "    </tr>\n",
       "  </tbody>\n",
       "</table>\n",
       "</div>"
      ],
      "text/plain": [
       "   YEAR treatment  years_from_policy_change  MEAN_SCORE  Female_MEAN_SCORE   \n",
       "0  2018   Control                        -1       601.0              604.0  \\\n",
       "1  2018   Control                        -1       601.0              604.0   \n",
       "2  2018   Control                        -1       601.0              604.0   \n",
       "3  2018   Control                        -1       601.0              604.0   \n",
       "4  2018   Control                        -1       601.0              604.0   \n",
       "\n",
       "   Male_MEAN_SCORE  MEAN_SCORE_white  MEAN_SCORE_non_white   \n",
       "0            598.0             610.0                 602.6  \\\n",
       "1            598.0             610.0                 602.6   \n",
       "2            598.0             610.0                 602.6   \n",
       "3            598.0             610.0                 602.6   \n",
       "4            598.0             610.0                 602.6   \n",
       "\n",
       "   MEAN_SCORE_english_language_learners   \n",
       "0                                 580.0  \\\n",
       "1                                 580.0   \n",
       "2                                 580.0   \n",
       "3                                 580.0   \n",
       "4                                 580.0   \n",
       "\n",
       "   MEAN_SCORE_non-english_language_learners  \n",
       "0                                     604.0  \n",
       "1                                     604.0  \n",
       "2                                     604.0  \n",
       "3                                     604.0  \n",
       "4                                     604.0  "
      ]
     },
     "execution_count": 14,
     "metadata": {},
     "output_type": "execute_result"
    }
   ],
   "source": [
    "# keep the columns: YEAR, treatment, and years_from_policy_change, and any columns that contain MEAN in its string\n",
    "df = df[['YEAR', 'treatment', 'years_from_policy_change'] + list(df.columns[df.columns.str.contains('MEAN')])]\n",
    "df.head()"
   ]
  },
  {
   "cell_type": "code",
   "execution_count": 16,
   "metadata": {},
   "outputs": [],
   "source": [
    "# df.to_csv(\"shortened_data.csv\")"
   ]
  },
  {
   "cell_type": "code",
   "execution_count": 15,
   "metadata": {},
   "outputs": [],
   "source": [
    "# pre_covid = df[df['YEAR'] < 2020]\n",
    "# post_covid = df[df['YEAR'] >= 2020]"
   ]
  },
  {
   "cell_type": "code",
   "execution_count": 16,
   "metadata": {},
   "outputs": [],
   "source": [
    "# # pred: list of column names\n",
    "# # Create a new variable for years from policy change\n",
    "# df[\"years_from_policy_change\"] = df[\"YEAR\"] - 2019\n",
    "\n",
    "# # Create the difference-in-differences plot\n",
    "# g = (\n",
    "#     ggplot(\n",
    "#         df,\n",
    "#         aes(x=\"years_from_policy_change\", y=\"MEAN_SCORE\", color=\"treatment\"),\n",
    "#     )\n",
    "#     + geom_smooth(\n",
    "#         method=\"lm\", data=df[(df[\"years_from_policy_change\"] < 0) & (df[\"treatment\"] == \"Treated\")]\n",
    "#     )\n",
    "#     + geom_smooth(\n",
    "#         method=\"lm\", data=df[(df[\"years_from_policy_change\"] < 0) & (df[\"treatment\"] == \"Control\")]\n",
    "#     )\n",
    "#     + geom_smooth(\n",
    "#         method=\"lm\", data=df[(df[\"years_from_policy_change\"] >= 0) & (df[\"treatment\"] == \"Treated\")]\n",
    "#     )\n",
    "#     + geom_smooth(\n",
    "#         method=\"lm\", data=df[(df[\"years_from_policy_change\"] >= 0) & (df[\"treatment\"] == \"Control\")]\n",
    "#     )\n",
    "#     + geom_vline(xintercept=0, linetype=\"dashed\")\n",
    "#     + geom_text(x=1, y=7, label=\"Post-Policy Change\", color=\"black\")\n",
    "#     + labs(\n",
    "#         title=\"Diff-in-Diff Model Graph for Violent Crime Rate\"\n",
    "#     )\n",
    "#     + xlab(\"Years from Policy Change\")\n",
    "#     + ylab(\"Violent Crime Rate (per 100,000 people)\")\n",
    "#     + theme(legend_position=\"right\")\n",
    "# )\n",
    "# g"
   ]
  },
  {
   "cell_type": "code",
   "execution_count": 15,
   "metadata": {},
   "outputs": [],
   "source": [
    "# randomly select 10000 rows from the dataframe\n",
    "df_new =  df.sample(n=100000, random_state=42)"
   ]
  },
  {
   "cell_type": "code",
   "execution_count": 16,
   "metadata": {},
   "outputs": [
    {
     "data": {
      "text/plain": [
       "array([2022, 2018, 2019, 2021])"
      ]
     },
     "execution_count": 16,
     "metadata": {},
     "output_type": "execute_result"
    }
   ],
   "source": [
    "df_new['YEAR'].unique()"
   ]
  },
  {
   "cell_type": "code",
   "execution_count": 17,
   "metadata": {},
   "outputs": [],
   "source": [
    "# do a stratified sampling on YEAR\n",
    "df_new = df.groupby('YEAR', group_keys=False).apply(lambda x: x.sample(min(len(x), 500)))"
   ]
  },
  {
   "cell_type": "code",
   "execution_count": 18,
   "metadata": {},
   "outputs": [
    {
     "data": {
      "text/plain": [
       "array([2018, 2019, 2021, 2022])"
      ]
     },
     "execution_count": 18,
     "metadata": {},
     "output_type": "execute_result"
    }
   ],
   "source": [
    "df_new['YEAR'].unique()"
   ]
  },
  {
   "cell_type": "code",
   "execution_count": 19,
   "metadata": {},
   "outputs": [
    {
     "data": {
      "text/plain": [
       "array(['Control', 'Treated'], dtype=object)"
      ]
     },
     "execution_count": 19,
     "metadata": {},
     "output_type": "execute_result"
    }
   ],
   "source": [
    "df_new['treatment'].unique()"
   ]
  },
  {
   "cell_type": "code",
   "execution_count": 20,
   "metadata": {},
   "outputs": [
    {
     "data": {
      "text/plain": [
       "array([-1,  0,  2,  3])"
      ]
     },
     "execution_count": 20,
     "metadata": {},
     "output_type": "execute_result"
    }
   ],
   "source": [
    "df_new[\"years_from_policy_change\"].unique()"
   ]
  },
  {
   "cell_type": "code",
   "execution_count": 27,
   "metadata": {},
   "outputs": [
    {
     "data": {
      "text/html": [
       "<div>\n",
       "<style scoped>\n",
       "    .dataframe tbody tr th:only-of-type {\n",
       "        vertical-align: middle;\n",
       "    }\n",
       "\n",
       "    .dataframe tbody tr th {\n",
       "        vertical-align: top;\n",
       "    }\n",
       "\n",
       "    .dataframe thead th {\n",
       "        text-align: right;\n",
       "    }\n",
       "</style>\n",
       "<table border=\"1\" class=\"dataframe\">\n",
       "  <thead>\n",
       "    <tr style=\"text-align: right;\">\n",
       "      <th>treatment</th>\n",
       "      <th>Control</th>\n",
       "      <th>Treated</th>\n",
       "    </tr>\n",
       "    <tr>\n",
       "      <th>YEAR</th>\n",
       "      <th></th>\n",
       "      <th></th>\n",
       "    </tr>\n",
       "  </thead>\n",
       "  <tbody>\n",
       "    <tr>\n",
       "      <th>2018</th>\n",
       "      <td>482.005177</td>\n",
       "      <td>NaN</td>\n",
       "    </tr>\n",
       "    <tr>\n",
       "      <th>2019</th>\n",
       "      <td>494.184743</td>\n",
       "      <td>NaN</td>\n",
       "    </tr>\n",
       "    <tr>\n",
       "      <th>2021</th>\n",
       "      <td>NaN</td>\n",
       "      <td>527.852</td>\n",
       "    </tr>\n",
       "    <tr>\n",
       "      <th>2022</th>\n",
       "      <td>NaN</td>\n",
       "      <td>514.492</td>\n",
       "    </tr>\n",
       "  </tbody>\n",
       "</table>\n",
       "</div>"
      ],
      "text/plain": [
       "treatment     Control  Treated\n",
       "YEAR                          \n",
       "2018       482.005177      NaN\n",
       "2019       494.184743      NaN\n",
       "2021              NaN  527.852\n",
       "2022              NaN  514.492"
      ]
     },
     "execution_count": 27,
     "metadata": {},
     "output_type": "execute_result"
    }
   ],
   "source": [
    "df_new.groupby(['YEAR', 'treatment'])['MEAN_SCORE'].mean().unstack()"
   ]
  },
  {
   "cell_type": "code",
   "execution_count": 24,
   "metadata": {},
   "outputs": [
    {
     "data": {
      "text/plain": [
       "<Axes: xlabel='YEAR'>"
      ]
     },
     "execution_count": 24,
     "metadata": {},
     "output_type": "execute_result"
    }
   ],
   "source": [
    "# plot the df_new into a line graph to see if there is a trend before and after 2020 on both treated and control groups using plt\n",
    "df_new.groupby(['YEAR', 'treatment'])['MEAN_SCORE'].mean().unstack().plot()"
   ]
  },
  {
   "cell_type": "code",
   "execution_count": 21,
   "metadata": {},
   "outputs": [
    {
     "data": {
      "image/png": "[encoded data removed]",
      "text/plain": [
       "<Figure size 640x480 with 1 Axes>"
      ]
     },
     "metadata": {},
     "output_type": "display_data"
    },
    {
     "data": {
      "text/plain": [
       "<ggplot: (8749362216570)>"
      ]
     },
     "execution_count": 21,
     "metadata": {},
     "output_type": "execute_result"
    }
   ],
   "source": [
    "# plot the graph\n",
    "g = (\n",
    "    ggplot(\n",
    "        \n",
    "        df_new,\n",
    "        aes(x=\"years_from_policy_change\", y=\"MEAN_SCORE\", color=\"treatment\"),\n",
    "    )\n",
    "    + geom_smooth(\n",
    "        method=\"lm\", data=df_new[(df_new[\"years_from_policy_change\"] < 0) & (df_new[\"treatment\"] == \"Treated\")]\n",
    "    )\n",
    "    + geom_smooth(\n",
    "        method=\"lm\", data=df_new[(df_new[\"years_from_policy_change\"] < 0) & (df_new[\"treatment\"] == \"Control\")])\n",
    "\n",
    "    + geom_smooth(\n",
    "        method=\"lm\", data=df_new[(df_new[\"years_from_policy_change\"] >= 0) & (df_new[\"treatment\"] == \"Treated\")])  \n",
    "    + geom_smooth(\n",
    "        method=\"lm\", data=df_new[(df_new[\"years_from_policy_change\"] >= 0) & (df_new[\"treatment\"] == \"Control\")])\n",
    "    + geom_vline(xintercept=0, linetype=\"dashed\")\n",
    ")\n",
    "g"
   ]
  },
  {
   "cell_type": "code",
   "execution_count": 32,
   "metadata": {},
   "outputs": [
    {
     "data": {
      "image/png": "[encoded data removed]",
      "text/plain": [
       "<Figure size 640x480 with 1 Axes>"
      ]
     },
     "metadata": {},
     "output_type": "display_data"
    },
    {
     "data": {
      "text/plain": [
       "<ggplot: (8751266625143)>"
      ]
     },
     "execution_count": 32,
     "metadata": {},
     "output_type": "execute_result"
    }
   ],
   "source": [
    "g = (\n",
    "    ggplot(\n",
    "        df_new,\n",
    "        aes(x=\"years_from_policy_change\", y=\"MEAN_SCORE\", color=\"treatment\"),\n",
    "    )\n",
    "    + geom_smooth(\n",
    "        method=\"lm\", data=df_new[(df_new[\"years_from_policy_change\"] < 0) & (df_new[\"treatment\"] == \"Treated\")]\n",
    "    )\n",
    "    + geom_smooth(\n",
    "        method=\"lm\", data=df_new[(df_new[\"years_from_policy_change\"] < 0) & (df_new[\"treatment\"] == \"Control\")]\n",
    "    )\n",
    "    + geom_smooth(\n",
    "        method=\"lm\", data=df_new[(df_new[\"years_from_policy_change\"] >= 0) & (df_new[\"treatment\"] == \"Treated\")]\n",
    "    )\n",
    "    + geom_smooth(\n",
    "        method=\"lm\", data=df_new[(df_new[\"years_from_policy_change\"] >= 0) & (df_new[\"treatment\"] == \"Control\")]\n",
    "    )\n",
    "    + geom_vline(xintercept=0, linetype=\"dashed\")\n",
    "    + geom_text(x=1, y=7, label=\"Post-Policy Change\", color=\"black\")\n",
    "    + labs(\n",
    "        title=\"Diff-in-Diff Model Graph for Student Mean Score before and after COVID-19\"\n",
    "    )\n",
    "    + xlab(\"Years from Policy Change\")\n",
    "    + ylab(\"Student Mean Score\")\n",
    "    + theme(legend_position=\"right\")\n",
    ")\n",
    "g\n",
    "# takes about 1min20s for 10k samples"
   ]
  },
  {
   "cell_type": "code",
   "execution_count": 33,
   "metadata": {},
   "outputs": [
    {
     "data": {
      "image/png": "[encoded data removed]",
      "text/plain": [
       "<Figure size 640x480 with 1 Axes>"
      ]
     },
     "metadata": {},
     "output_type": "display_data"
    },
    {
     "name": "stdout",
     "output_type": "stream",
     "text": [
      "\n"
     ]
    }
   ],
   "source": [
    "print(g)"
   ]
  },
  {
   "cell_type": "code",
   "execution_count": 18,
   "metadata": {},
   "outputs": [],
   "source": [
    "# g = (\n",
    "#     ggplot(\n",
    "#         df,\n",
    "#         aes(x=\"years_from_policy_change\", y=\"MEAN_SCORE\", color=\"treatment\"),\n",
    "#     )\n",
    "#     + geom_smooth(\n",
    "#         method=\"lm\", data=df[(df[\"years_from_policy_change\"] < 0) & (df[\"treatment\"] == \"Treated\")]\n",
    "#     )\n",
    "#     + geom_smooth(\n",
    "#         method=\"lm\", data=df[(df[\"years_from_policy_change\"] < 0) & (df[\"treatment\"] == \"Control\")]\n",
    "#     )\n",
    "#     + geom_smooth(\n",
    "#         method=\"lm\", data=df[(df[\"years_from_policy_change\"] >= 0) & (df[\"treatment\"] == \"Treated\")]\n",
    "#     )\n",
    "#     + geom_smooth(\n",
    "#         method=\"lm\", data=df[(df[\"years_from_policy_change\"] >= 0) & (df[\"treatment\"] == \"Control\")]\n",
    "#     )\n",
    "#     + geom_vline(xintercept=0, linetype=\"dashed\")\n",
    "#     + geom_text(x=1, y=7, label=\"Post-Policy Change\", color=\"black\")\n",
    "#     + labs(\n",
    "#         title=\"Diff-in-Diff Model Graph for Student Mean Score before and after COVID-19\"\n",
    "#     )\n",
    "#     + xlab(\"Years from Policy Change\")\n",
    "#     + ylab(\"Student Mean Score\")\n",
    "#     + theme(legend_position=\"right\")\n",
    "# )\n",
    "# g"
   ]
  },
  {
   "cell_type": "code",
   "execution_count": 19,
   "metadata": {},
   "outputs": [],
   "source": [
    "# make a difference-in-difference model plot\n",
    "def diff_in_diff_plot(df, pred, group):\n",
    "    \"\"\"\n",
    "    df: dataframe\n",
    "    pred: list of column names\n",
    "    group: column name\n",
    "    \"\"\"\n",
    "    for i in pred:\n",
    "        print(i)\n",
    "        model = smf.ols(f\"{i} ~ YEAR + {group} + YEAR:{group}\", df).fit().summary()\n",
    "        print(model)\n",
    "        sns.lmplot(x='YEAR', y=i, hue=group, data=df)\n",
    "        plt.show()"
   ]
  },
  {
   "cell_type": "code",
   "execution_count": null,
   "metadata": {},
   "outputs": [],
   "source": []
  }
 ],
 "metadata": {
  "kernelspec": {
   "display_name": "Python 3",
   "language": "python",
   "name": "python3"
  },
  "language_info": {
   "codemirror_mode": {
    "name": "ipython",
    "version": 3
   },
   "file_extension": ".py",
   "mimetype": "text/x-python",
   "name": "python",
   "nbconvert_exporter": "python",
   "pygments_lexer": "ipython3",
   "version": "3.10.4"
  },
  "orig_nbformat": 4
 },
 "nbformat": 4,
 "nbformat_minor": 2
}
