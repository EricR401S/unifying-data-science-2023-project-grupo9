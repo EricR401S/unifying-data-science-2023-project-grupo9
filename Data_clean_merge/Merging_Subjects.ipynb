{
 "cells": [
  {
   "cell_type": "code",
   "execution_count": 1,
   "metadata": {},
   "outputs": [],
   "source": [
    "import pandas as pd\n",
    "import numpy as np"
   ]
  },
  {
   "cell_type": "markdown",
   "metadata": {},
   "source": [
    "# Subjects 2021-22"
   ]
  },
  {
   "cell_type": "code",
   "execution_count": 2,
   "metadata": {},
   "outputs": [
    {
     "data": {
      "text/plain": [
       "array(['ELA3', 'ELA4', 'ELA5', 'ELA6', 'ELA7', 'ELA8', 'ELA3_8'],\n",
       "      dtype=object)"
      ]
     },
     "execution_count": 2,
     "metadata": {},
     "output_type": "execute_result"
    }
   ],
   "source": [
    "ELA_2021_2022 = pd.read_csv('df_ela_2022.csv')\n",
    "\n",
    "# add column for ELA for each row\n",
    "ELA_2021_2022['SUBJECT'] = 'ELA'\n",
    "\n",
    "ELA_2021_2022[\"ASSESSMENT_NAME\"].unique()"
   ]
  },
  {
   "cell_type": "code",
   "execution_count": 3,
   "metadata": {},
   "outputs": [
    {
     "data": {
      "text/plain": [
       "2022    21525\n",
       "2021    21497\n",
       "Name: YEAR, dtype: int64"
      ]
     },
     "execution_count": 3,
     "metadata": {},
     "output_type": "execute_result"
    }
   ],
   "source": [
    "# year count\n",
    "ELA_2021_2022[\"YEAR\"].value_counts()"
   ]
  },
  {
   "cell_type": "code",
   "execution_count": 4,
   "metadata": {},
   "outputs": [
    {
     "data": {
      "text/plain": [
       "ENTITY_CD                                            0\n",
       "ENTITY_NAME                                          0\n",
       "YEAR                                                 0\n",
       "ASSESSMENT_NAME                                      0\n",
       "TOTAL_COUNT                                          0\n",
       "                                                 ...  \n",
       "Students with Disabilities_PCT_TESTED             9409\n",
       "Students with Disabilities_PER_PROF              12474\n",
       "Students with Disabilities_TOTAL_COUNT            9409\n",
       "Students with Disabilities_TOTAL_SCALE_SCORES    12474\n",
       "SUBJECT                                              0\n",
       "Length: 131, dtype: int64"
      ]
     },
     "execution_count": 4,
     "metadata": {},
     "output_type": "execute_result"
    }
   ],
   "source": [
    "# check for missing values\n",
    "ELA_2021_2022.isnull().sum()"
   ]
  },
  {
   "cell_type": "code",
   "execution_count": 5,
   "metadata": {},
   "outputs": [
    {
     "name": "stderr",
     "output_type": "stream",
     "text": [
      "/var/folders/2s/c87gg64118ndg_yrky9zvlnc0000gn/T/ipykernel_40650/4275389915.py:1: DtypeWarning: Columns (11,12,13,15,19,21,22,24,28,30,31,33,37,39,40,42,46,48,49,51,55,57,58,60,64,66,67,69,73,75,76,78,82,84,85,87,91,93,94,96,100,102,103,105,109,111,112,114,118,120,121,123,127,129) have mixed types. Specify dtype option on import or set low_memory=False.\n",
      "  Math_2021_2022 = pd.read_csv('df_Math_2022.csv')\n"
     ]
    },
    {
     "data": {
      "text/plain": [
       "array(['MATH3', 'MATH4', 'MATH5', 'MATH6', 'MATH7', 'MATH8',\n",
       "       'Combined7Math', 'RegentsMath8', 'RegentsMath7', 'Combined8Math',\n",
       "       'MATH3_8', 'Combined6Math', 'RegentsMath6'], dtype=object)"
      ]
     },
     "execution_count": 5,
     "metadata": {},
     "output_type": "execute_result"
    }
   ],
   "source": [
    "Math_2021_2022 = pd.read_csv('df_Math_2022.csv')\n",
    "\n",
    "# add column for Math for each row\n",
    "Math_2021_2022['SUBJECT'] = 'Math'\n",
    "\n",
    "Math_2021_2022[\"ASSESSMENT_NAME\"].unique()"
   ]
  },
  {
   "cell_type": "code",
   "execution_count": 6,
   "metadata": {},
   "outputs": [
    {
     "data": {
      "text/plain": [
       "ENTITY_CD                                            0\n",
       "ENTITY_NAME                                          0\n",
       "YEAR                                                 0\n",
       "ASSESSMENT_NAME                                      0\n",
       "TOTAL_COUNT                                       3843\n",
       "                                                 ...  \n",
       "Students with Disabilities_PCT_TESTED            25135\n",
       "Students with Disabilities_PER_PROF              28570\n",
       "Students with Disabilities_TOTAL_COUNT           25135\n",
       "Students with Disabilities_TOTAL_SCALE_SCORES    28570\n",
       "SUBJECT                                              0\n",
       "Length: 131, dtype: int64"
      ]
     },
     "execution_count": 6,
     "metadata": {},
     "output_type": "execute_result"
    }
   ],
   "source": [
    "# check for missing values\n",
    "Math_2021_2022.isnull().sum()"
   ]
  },
  {
   "cell_type": "code",
   "execution_count": 7,
   "metadata": {},
   "outputs": [
    {
     "name": "stderr",
     "output_type": "stream",
     "text": [
      "/var/folders/2s/c87gg64118ndg_yrky9zvlnc0000gn/T/ipykernel_40650/4099104169.py:1: DtypeWarning: Columns (11,12,13,15,19,21,22,24,28,30,31,33,37,39,40,42,46,48,49,51,55,57,58,60,64,66,67,69,73,75,76,78,82,84,85,87,91,93,94,96,100,102,103,105,109,111,112,114,118,120,121,123,127,129) have mixed types. Specify dtype option on import or set low_memory=False.\n",
      "  Science_2021_2022 = pd.read_csv('df_Science_2022.csv')\n"
     ]
    },
    {
     "data": {
      "text/plain": [
       "array(['Science4', 'Science8', 'RegentsScience8', 'CombinedScience ',\n",
       "       'Science4_8'], dtype=object)"
      ]
     },
     "execution_count": 7,
     "metadata": {},
     "output_type": "execute_result"
    }
   ],
   "source": [
    "Science_2021_2022 = pd.read_csv('df_Science_2022.csv')\n",
    "\n",
    "# add column for Science for each row\n",
    "Science_2021_2022['SUBJECT'] = 'Science'\n",
    "\n",
    "Science_2021_2022[\"ASSESSMENT_NAME\"].unique()"
   ]
  },
  {
   "cell_type": "code",
   "execution_count": 8,
   "metadata": {},
   "outputs": [],
   "source": [
    "# stack the dataframes on top of each other\n",
    "subject_df_2021_22 = pd.concat([ELA_2021_2022, Math_2021_2022, Science_2021_2022], axis=0)\n"
   ]
  },
  {
   "cell_type": "code",
   "execution_count": 9,
   "metadata": {},
   "outputs": [
    {
     "data": {
      "text/plain": [
       "array(['ELA3', 'ELA4', 'ELA5', 'ELA6', 'ELA7', 'ELA8', 'ELA3_8', 'MATH3',\n",
       "       'MATH4', 'MATH5', 'MATH6', 'MATH7', 'MATH8', 'Combined7Math',\n",
       "       'RegentsMath8', 'RegentsMath7', 'Combined8Math', 'MATH3_8',\n",
       "       'Combined6Math', 'RegentsMath6', 'Science4', 'Science8',\n",
       "       'RegentsScience8', 'CombinedScience ', 'Science4_8'], dtype=object)"
      ]
     },
     "execution_count": 9,
     "metadata": {},
     "output_type": "execute_result"
    }
   ],
   "source": [
    "subject_df_2021_22[\"ASSESSMENT_NAME\"].unique()"
   ]
  },
  {
   "cell_type": "markdown",
   "metadata": {},
   "source": [
    "# Subject 2018-19"
   ]
  },
  {
   "cell_type": "code",
   "execution_count": 10,
   "metadata": {},
   "outputs": [
    {
     "data": {
      "text/plain": [
       "array(['Combined8Math', 'Combined7Math', 'RegentsMath8', 'MATH3_8',\n",
       "       'MATH8', 'MATH7', 'MATH5', 'MATH3', 'MATH6', 'MATH4',\n",
       "       'RegentsMath7'], dtype=object)"
      ]
     },
     "execution_count": 10,
     "metadata": {},
     "output_type": "execute_result"
    }
   ],
   "source": [
    "ELA_2018_2019 = pd.read_csv('df_ela_2019.csv')\n",
    "\n",
    "# add column for ELA for each row\n",
    "ELA_2018_2019['SUBJECT'] = 'ELA'\n",
    "\n",
    "ELA_2018_2019[\"ASSESSMENT_NAME\"].unique()"
   ]
  },
  {
   "cell_type": "code",
   "execution_count": 11,
   "metadata": {},
   "outputs": [
    {
     "data": {
      "text/plain": [
       "array(['Combined8Math', 'Combined7Math', 'RegentsMath8', 'MATH3_8',\n",
       "       'MATH8', 'MATH7', 'MATH5', 'MATH3', 'MATH6', 'MATH4',\n",
       "       'RegentsMath7'], dtype=object)"
      ]
     },
     "execution_count": 11,
     "metadata": {},
     "output_type": "execute_result"
    }
   ],
   "source": [
    "Math_2018_2019 = pd.read_csv('df_Math_2019.csv')\n",
    "\n",
    "# add column for Math for each row\n",
    "Math_2018_2019['SUBJECT'] = 'Math'\n",
    "\n",
    "Math_2018_2019[\"ASSESSMENT_NAME\"].unique()"
   ]
  },
  {
   "cell_type": "code",
   "execution_count": 12,
   "metadata": {},
   "outputs": [
    {
     "data": {
      "text/plain": [
       "ENTITY_CD                                            0\n",
       "ENTITY_NAME                                          0\n",
       "YEAR                                                 0\n",
       "ASSESSMENT_NAME                                      0\n",
       "NOT_TESTED                                           4\n",
       "                                                 ...  \n",
       "Students with Disabilities_NUM_PROF              19708\n",
       "Students with Disabilities_NUM_TESTED            19708\n",
       "Students with Disabilities_PER_PROF              19708\n",
       "Students with Disabilities_TOTAL_SCALE_SCORES    19708\n",
       "SUBJECT                                              0\n",
       "Length: 89, dtype: int64"
      ]
     },
     "execution_count": 12,
     "metadata": {},
     "output_type": "execute_result"
    }
   ],
   "source": [
    "# check for missing values\n",
    "Math_2018_2019.isnull().sum()"
   ]
  },
  {
   "cell_type": "code",
   "execution_count": 13,
   "metadata": {},
   "outputs": [
    {
     "data": {
      "text/plain": [
       "array(['Science4', 'Science8', 'RegentsScience8', 'CombinedScience ',\n",
       "       'Science4_8'], dtype=object)"
      ]
     },
     "execution_count": 13,
     "metadata": {},
     "output_type": "execute_result"
    }
   ],
   "source": [
    "Science_2018_2019 = pd.read_csv('df_Science_2019.csv')\n",
    "\n",
    "# add column for Science for each row\n",
    "Science_2018_2019['SUBJECT'] = 'Science'\n",
    "\n",
    "Science_2018_2019[\"ASSESSMENT_NAME\"].unique()"
   ]
  },
  {
   "cell_type": "code",
   "execution_count": 14,
   "metadata": {},
   "outputs": [],
   "source": [
    "# stack the dataframes on top of each other\n",
    "subject_df_2018_19 = pd.concat([ELA_2018_2019, Math_2018_2019, Science_2018_2019], axis=0)"
   ]
  },
  {
   "cell_type": "code",
   "execution_count": 15,
   "metadata": {},
   "outputs": [
    {
     "data": {
      "text/plain": [
       "array(['Combined8Math', 'Combined7Math', 'RegentsMath8', 'MATH3_8',\n",
       "       'MATH8', 'MATH7', 'MATH5', 'MATH3', 'MATH6', 'MATH4',\n",
       "       'RegentsMath7', 'Science4', 'Science8', 'RegentsScience8',\n",
       "       'CombinedScience ', 'Science4_8'], dtype=object)"
      ]
     },
     "execution_count": 15,
     "metadata": {},
     "output_type": "execute_result"
    }
   ],
   "source": [
    "subject_df_2018_19[\"ASSESSMENT_NAME\"].unique()"
   ]
  },
  {
   "cell_type": "markdown",
   "metadata": {},
   "source": [
    "# Final Subjects Dataframe"
   ]
  },
  {
   "cell_type": "code",
   "execution_count": 16,
   "metadata": {},
   "outputs": [
    {
     "data": {
      "text/html": [
       "<div>\n",
       "<style scoped>\n",
       "    .dataframe tbody tr th:only-of-type {\n",
       "        vertical-align: middle;\n",
       "    }\n",
       "\n",
       "    .dataframe tbody tr th {\n",
       "        vertical-align: top;\n",
       "    }\n",
       "\n",
       "    .dataframe thead th {\n",
       "        text-align: right;\n",
       "    }\n",
       "</style>\n",
       "<table border=\"1\" class=\"dataframe\">\n",
       "  <thead>\n",
       "    <tr style=\"text-align: right;\">\n",
       "      <th></th>\n",
       "      <th>ENTITY_CD</th>\n",
       "      <th>ENTITY_NAME</th>\n",
       "      <th>YEAR</th>\n",
       "      <th>ASSESSMENT_NAME</th>\n",
       "      <th>NOT_TESTED</th>\n",
       "      <th>NUM_TESTED</th>\n",
       "      <th>NUM_PROF</th>\n",
       "      <th>PER_PROF</th>\n",
       "      <th>TOTAL_SCALE_SCORES</th>\n",
       "      <th>MEAN_SCORE</th>\n",
       "      <th>...</th>\n",
       "      <th>Non-English Language Learner_TOTAL_COUNT</th>\n",
       "      <th>Economically Disadvantaged_PCT_NOT_TESTED</th>\n",
       "      <th>Economically Disadvantaged_PCT_TESTED</th>\n",
       "      <th>Economically Disadvantaged_TOTAL_COUNT</th>\n",
       "      <th>Not Economically Disadvantaged_PCT_NOT_TESTED</th>\n",
       "      <th>Not Economically Disadvantaged_PCT_TESTED</th>\n",
       "      <th>Not Economically Disadvantaged_TOTAL_COUNT</th>\n",
       "      <th>Students with Disabilities_PCT_NOT_TESTED</th>\n",
       "      <th>Students with Disabilities_PCT_TESTED</th>\n",
       "      <th>Students with Disabilities_TOTAL_COUNT</th>\n",
       "    </tr>\n",
       "  </thead>\n",
       "  <tbody>\n",
       "    <tr>\n",
       "      <th>0</th>\n",
       "      <td>1</td>\n",
       "      <td>NYC Public Schools</td>\n",
       "      <td>2018</td>\n",
       "      <td>Combined8Math</td>\n",
       "      <td>21909</td>\n",
       "      <td>64087</td>\n",
       "      <td>27892</td>\n",
       "      <td>44</td>\n",
       "      <td>00</td>\n",
       "      <td>00</td>\n",
       "      <td>...</td>\n",
       "      <td>NaN</td>\n",
       "      <td>NaN</td>\n",
       "      <td>NaN</td>\n",
       "      <td>NaN</td>\n",
       "      <td>NaN</td>\n",
       "      <td>NaN</td>\n",
       "      <td>NaN</td>\n",
       "      <td>NaN</td>\n",
       "      <td>NaN</td>\n",
       "      <td>NaN</td>\n",
       "    </tr>\n",
       "    <tr>\n",
       "      <th>1</th>\n",
       "      <td>1</td>\n",
       "      <td>NYC Public Schools</td>\n",
       "      <td>2018</td>\n",
       "      <td>Combined7Math</td>\n",
       "      <td>6675</td>\n",
       "      <td>65892</td>\n",
       "      <td>26320</td>\n",
       "      <td>40</td>\n",
       "      <td>00</td>\n",
       "      <td>00</td>\n",
       "      <td>...</td>\n",
       "      <td>NaN</td>\n",
       "      <td>NaN</td>\n",
       "      <td>NaN</td>\n",
       "      <td>NaN</td>\n",
       "      <td>NaN</td>\n",
       "      <td>NaN</td>\n",
       "      <td>NaN</td>\n",
       "      <td>NaN</td>\n",
       "      <td>NaN</td>\n",
       "      <td>NaN</td>\n",
       "    </tr>\n",
       "    <tr>\n",
       "      <th>2</th>\n",
       "      <td>1</td>\n",
       "      <td>NYC Public Schools</td>\n",
       "      <td>2018</td>\n",
       "      <td>RegentsMath8</td>\n",
       "      <td>s</td>\n",
       "      <td>14361</td>\n",
       "      <td>11369</td>\n",
       "      <td>79</td>\n",
       "      <td>NaN</td>\n",
       "      <td>NaN</td>\n",
       "      <td>...</td>\n",
       "      <td>NaN</td>\n",
       "      <td>NaN</td>\n",
       "      <td>NaN</td>\n",
       "      <td>NaN</td>\n",
       "      <td>NaN</td>\n",
       "      <td>NaN</td>\n",
       "      <td>NaN</td>\n",
       "      <td>NaN</td>\n",
       "      <td>NaN</td>\n",
       "      <td>NaN</td>\n",
       "    </tr>\n",
       "    <tr>\n",
       "      <th>3</th>\n",
       "      <td>1</td>\n",
       "      <td>NYC Public Schools</td>\n",
       "      <td>2018</td>\n",
       "      <td>MATH3_8</td>\n",
       "      <td>60289</td>\n",
       "      <td>402824</td>\n",
       "      <td>177196</td>\n",
       "      <td>44</td>\n",
       "      <td>00</td>\n",
       "      <td>00</td>\n",
       "      <td>...</td>\n",
       "      <td>NaN</td>\n",
       "      <td>NaN</td>\n",
       "      <td>NaN</td>\n",
       "      <td>NaN</td>\n",
       "      <td>NaN</td>\n",
       "      <td>NaN</td>\n",
       "      <td>NaN</td>\n",
       "      <td>NaN</td>\n",
       "      <td>NaN</td>\n",
       "      <td>NaN</td>\n",
       "    </tr>\n",
       "    <tr>\n",
       "      <th>4</th>\n",
       "      <td>1</td>\n",
       "      <td>NYC Public Schools</td>\n",
       "      <td>2018</td>\n",
       "      <td>MATH8</td>\n",
       "      <td>21909</td>\n",
       "      <td>49726</td>\n",
       "      <td>16523</td>\n",
       "      <td>33</td>\n",
       "      <td>29864407</td>\n",
       "      <td>601</td>\n",
       "      <td>...</td>\n",
       "      <td>NaN</td>\n",
       "      <td>NaN</td>\n",
       "      <td>NaN</td>\n",
       "      <td>NaN</td>\n",
       "      <td>NaN</td>\n",
       "      <td>NaN</td>\n",
       "      <td>NaN</td>\n",
       "      <td>NaN</td>\n",
       "      <td>NaN</td>\n",
       "      <td>NaN</td>\n",
       "    </tr>\n",
       "  </tbody>\n",
       "</table>\n",
       "<p>5 rows × 131 columns</p>\n",
       "</div>"
      ],
      "text/plain": [
       "   ENTITY_CD         ENTITY_NAME  YEAR ASSESSMENT_NAME NOT_TESTED  NUM_TESTED  \\\n",
       "0          1  NYC Public Schools  2018   Combined8Math      21909       64087   \n",
       "1          1  NYC Public Schools  2018   Combined7Math       6675       65892   \n",
       "2          1  NYC Public Schools  2018    RegentsMath8          s       14361   \n",
       "3          1  NYC Public Schools  2018         MATH3_8      60289      402824   \n",
       "4          1  NYC Public Schools  2018           MATH8      21909       49726   \n",
       "\n",
       "  NUM_PROF PER_PROF TOTAL_SCALE_SCORES MEAN_SCORE  ...  \\\n",
       "0    27892       44                 00         00  ...   \n",
       "1    26320       40                 00         00  ...   \n",
       "2    11369       79                NaN        NaN  ...   \n",
       "3   177196       44                 00         00  ...   \n",
       "4    16523       33           29864407        601  ...   \n",
       "\n",
       "  Non-English Language Learner_TOTAL_COUNT  \\\n",
       "0                                      NaN   \n",
       "1                                      NaN   \n",
       "2                                      NaN   \n",
       "3                                      NaN   \n",
       "4                                      NaN   \n",
       "\n",
       "  Economically Disadvantaged_PCT_NOT_TESTED  \\\n",
       "0                                       NaN   \n",
       "1                                       NaN   \n",
       "2                                       NaN   \n",
       "3                                       NaN   \n",
       "4                                       NaN   \n",
       "\n",
       "  Economically Disadvantaged_PCT_TESTED  \\\n",
       "0                                   NaN   \n",
       "1                                   NaN   \n",
       "2                                   NaN   \n",
       "3                                   NaN   \n",
       "4                                   NaN   \n",
       "\n",
       "   Economically Disadvantaged_TOTAL_COUNT  \\\n",
       "0                                     NaN   \n",
       "1                                     NaN   \n",
       "2                                     NaN   \n",
       "3                                     NaN   \n",
       "4                                     NaN   \n",
       "\n",
       "  Not Economically Disadvantaged_PCT_NOT_TESTED  \\\n",
       "0                                           NaN   \n",
       "1                                           NaN   \n",
       "2                                           NaN   \n",
       "3                                           NaN   \n",
       "4                                           NaN   \n",
       "\n",
       "  Not Economically Disadvantaged_PCT_TESTED  \\\n",
       "0                                       NaN   \n",
       "1                                       NaN   \n",
       "2                                       NaN   \n",
       "3                                       NaN   \n",
       "4                                       NaN   \n",
       "\n",
       "  Not Economically Disadvantaged_TOTAL_COUNT  \\\n",
       "0                                        NaN   \n",
       "1                                        NaN   \n",
       "2                                        NaN   \n",
       "3                                        NaN   \n",
       "4                                        NaN   \n",
       "\n",
       "  Students with Disabilities_PCT_NOT_TESTED  \\\n",
       "0                                       NaN   \n",
       "1                                       NaN   \n",
       "2                                       NaN   \n",
       "3                                       NaN   \n",
       "4                                       NaN   \n",
       "\n",
       "  Students with Disabilities_PCT_TESTED  \\\n",
       "0                                   NaN   \n",
       "1                                   NaN   \n",
       "2                                   NaN   \n",
       "3                                   NaN   \n",
       "4                                   NaN   \n",
       "\n",
       "   Students with Disabilities_TOTAL_COUNT  \n",
       "0                                     NaN  \n",
       "1                                     NaN  \n",
       "2                                     NaN  \n",
       "3                                     NaN  \n",
       "4                                     NaN  \n",
       "\n",
       "[5 rows x 131 columns]"
      ]
     },
     "execution_count": 16,
     "metadata": {},
     "output_type": "execute_result"
    }
   ],
   "source": [
    "# stack the dataframes on top of each other\n",
    "subject_df_2018_19_2021_22 = pd.concat([subject_df_2018_19, subject_df_2021_22], axis=0)\n",
    "\n",
    "subject_df_2018_19_2021_22.head()"
   ]
  },
  {
   "cell_type": "code",
   "execution_count": 17,
   "metadata": {},
   "outputs": [
    {
     "data": {
      "text/plain": [
       "2018    67053\n",
       "2022    66202\n",
       "2021    63447\n",
       "2019    61373\n",
       "Name: YEAR, dtype: int64"
      ]
     },
     "execution_count": 17,
     "metadata": {},
     "output_type": "execute_result"
    }
   ],
   "source": [
    "# count rows for each year\n",
    "subject_df_2018_19_2021_22[\"YEAR\"].value_counts()"
   ]
  },
  {
   "cell_type": "code",
   "execution_count": 18,
   "metadata": {},
   "outputs": [
    {
     "data": {
      "text/plain": [
       "ENTITY_CD                                          0\n",
       "ENTITY_NAME                                        0\n",
       "YEAR                                               0\n",
       "ASSESSMENT_NAME                                    0\n",
       "NOT_TESTED                                         8\n",
       "                                               ...  \n",
       "Not Economically Disadvantaged_PCT_TESTED     181667\n",
       "Not Economically Disadvantaged_TOTAL_COUNT    181667\n",
       "Students with Disabilities_PCT_NOT_TESTED     179792\n",
       "Students with Disabilities_PCT_TESTED         179792\n",
       "Students with Disabilities_TOTAL_COUNT        179792\n",
       "Length: 131, dtype: int64"
      ]
     },
     "execution_count": 18,
     "metadata": {},
     "output_type": "execute_result"
    }
   ],
   "source": [
    "# check for null values\n",
    "subject_df_2018_19_2021_22.isnull().sum()"
   ]
  },
  {
   "cell_type": "code",
   "execution_count": 20,
   "metadata": {},
   "outputs": [],
   "source": [
    "# save as csv\n",
    "subject_df_2018_19_2021_22.to_csv('subject_df_2018_19_2021_22.csv', index=False)"
   ]
  },
  {
   "cell_type": "code",
   "execution_count": null,
   "metadata": {},
   "outputs": [],
   "source": []
  }
 ],
 "metadata": {
  "kernelspec": {
   "display_name": "Python 3.10.9 ('base')",
   "language": "python",
   "name": "python3"
  },
  "language_info": {
   "codemirror_mode": {
    "name": "ipython",
    "version": 3
   },
   "file_extension": ".py",
   "mimetype": "text/x-python",
   "name": "python",
   "nbconvert_exporter": "python",
   "pygments_lexer": "ipython3",
   "version": "3.10.9"
  },
  "orig_nbformat": 4,
  "vscode": {
   "interpreter": {
    "hash": "5982d76499e7f564764e2fd1c999ce9ea4b629ad4d67ff3088ad2c0cd3e5fde6"
   }
  }
 },
 "nbformat": 4,
 "nbformat_minor": 2
}
